{
 "metadata": {
  "language_info": {
   "codemirror_mode": {
    "name": "ipython",
    "version": 3
   },
   "file_extension": ".py",
   "mimetype": "text/x-python",
   "name": "python",
   "nbconvert_exporter": "python",
   "pygments_lexer": "ipython3",
   "version": "3.8.8"
  },
  "orig_nbformat": 2,
  "kernelspec": {
   "name": "python388jvsc74a57bd0e0e76611cbb44ad62e64b6c33ebd88195c42ce7f4e3674c65dd3e7e45acb1af1",
   "display_name": "Python 3.8.8 64-bit (windows store)"
  },
  "metadata": {
   "interpreter": {
    "hash": "e0e76611cbb44ad62e64b6c33ebd88195c42ce7f4e3674c65dd3e7e45acb1af1"
   }
  }
 },
 "nbformat": 4,
 "nbformat_minor": 2,
 "cells": [
  {
   "cell_type": "code",
   "execution_count": 1,
   "metadata": {},
   "outputs": [],
   "source": [
    "import os, sys\n",
    "sys.path.append('../')\n",
    "import data\n",
    "import matplotlib.pyplot as plt\n",
    "\n",
    "%load_ext autoreload\n",
    "%autoreload 2"
   ]
  },
  {
   "source": [
    "# Import real data"
   ],
   "cell_type": "markdown",
   "metadata": {}
  },
  {
   "cell_type": "code",
   "execution_count": 2,
   "metadata": {},
   "outputs": [
    {
     "output_type": "execute_result",
     "data": {
      "text/plain": [
       "['POWER', 'MINIBOONE', 'HEPMASS']"
      ]
     },
     "metadata": {},
     "execution_count": 2
    }
   ],
   "source": [
    "# get possible datasets\n",
    "data.get_real_names()"
   ]
  },
  {
   "cell_type": "code",
   "execution_count": 3,
   "metadata": {},
   "outputs": [
    {
     "output_type": "stream",
     "name": "stdout",
     "text": [
      "(2049280, 7)\n(116637, 40)\n(3150792, 18)\n"
     ]
    }
   ],
   "source": [
    "# path to where data is stored\n",
    "path_to_data = '../data/real_data/'\n",
    "\n",
    "# fetch data\n",
    "data_1 = data.get_real_data('POWER', path_to_data)\n",
    "data_2 = data.get_real_data('MINIBOONE', path_to_data)\n",
    "data_3 = data.get_real_data('HEPMASS', path_to_data)\n",
    "\n",
    "# print shapes\n",
    "print(data_1.shape)\n",
    "print(data_2.shape)\n",
    "print(data_3.shape)"
   ]
  },
  {
   "cell_type": "code",
   "execution_count": 4,
   "metadata": {},
   "outputs": [
    {
     "output_type": "stream",
     "name": "stdout",
     "text": [
      "(1639424, 7) (204928, 7) (204928, 7)\n(93311, 40) (11663, 40) (11663, 40)\n(2520634, 18) (315079, 18) (315079, 18)\n"
     ]
    }
   ],
   "source": [
    "# split all into train, val, test\n",
    "train_1, val_1, test_1 = data.split_data(data_1)\n",
    "train_2, val_2, test_2 = data.split_data(data_2)\n",
    "train_3, val_3, test_3 = data.split_data(data_3)\n",
    "\n",
    "# print and check\n",
    "print(train_1.shape, val_1.shape, test_1.shape)\n",
    "print(train_2.shape, val_2.shape, test_2.shape)\n",
    "print(train_3.shape, val_3.shape, test_3.shape)"
   ]
  },
  {
   "cell_type": "code",
   "execution_count": null,
   "metadata": {},
   "outputs": [],
   "source": []
  }
 ]
}