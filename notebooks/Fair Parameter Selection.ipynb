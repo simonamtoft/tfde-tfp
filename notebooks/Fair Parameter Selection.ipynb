{
  "nbformat": 4,
  "nbformat_minor": 0,
  "metadata": {
    "colab": {
      "name": "Fair Parameter Selection.ipynb",
      "provenance": [],
      "collapsed_sections": []
    },
    "kernelspec": {
      "name": "python3",
      "display_name": "Python 3"
    },
    "language_info": {
      "name": "python"
    }
  },
  "cells": [
    {
      "cell_type": "markdown",
      "metadata": {
        "id": "N4yUeuDKsjIh"
      },
      "source": [
        "# Fair Parameter Selection\n",
        "This nootbook gives an overview of selecting parameters for the different models, such that they can be compared in a fair manner. "
      ]
    },
    {
      "cell_type": "code",
      "metadata": {
        "id": "8D6wtBLWsTFg"
      },
      "source": [
        "# number of components in the Tensor Train model\n",
        "K_baseline = 10\n",
        "\n",
        "# dimension of the data\n",
        "M_DIM = 2"
      ],
      "execution_count": null,
      "outputs": []
    },
    {
      "cell_type": "code",
      "metadata": {
        "id": "v8Et7I3vtFQA"
      },
      "source": [
        "K_MAX = 140\n",
        "Ks = np.arange(2, K_MAX, 1)\n",
        "Ms = np.arange(2, 3, 1)\n",
        "params = np.zeros((3, len(Ms), len(Ks)))\n",
        "legends = []\n",
        "\n",
        "# compute number of parameters for each model\n",
        "for i, M in enumerate(Ms):\n",
        "    for j, K in enumerate(Ks):\n",
        "        model_Train = m.TensorTrainGaussian(K, M)\n",
        "        model_CP = m.CPGaussian(K, M)\n",
        "        params[0, i, j] = model_Train.n_parameters()\n",
        "        params[1, i, j] = model_CP.n_parameters()\n",
        "        params[2, i, j] = K + M*K + K*M*M\n",
        "    legends.append('TT, M='+str(M))\n",
        "    legends.append('CP, M='+str(M))\n",
        "    legends.append('GMM, M='+str(M))\n",
        "    \n",
        "# Make a vertical line\n",
        "val = params[0, Ms==M_DIM, Ks==K_baseline][0]\n",
        "line = val*np.ones(Ks.shape)\n",
        "legends.append('Equality line')\n",
        "    \n",
        "f,ax = plt.subplots(figsize=(16, 5))\n",
        "for i in range(len(Ms)):\n",
        "    ax.plot(Ks, params[:,i].T, linewidth=3)\n",
        "ax.plot(Ks, line, '--k', linewidth=3)\n",
        "ax.legend(legends)\n",
        "ax.set_xlabel('K of model')\n",
        "ax.set_ylabel('Free parameters')\n",
        "ax.grid('on')\n",
        "ax.set_title('Number of free parameters vs. K for each model')\n",
        "ax.set_ylim([0, 500])\n",
        "ax.set_xlim([0, K_MAX])\n",
        "plt.show()"
      ],
      "execution_count": null,
      "outputs": []
    },
    {
      "cell_type": "code",
      "metadata": {
        "id": "HTJrn1WVtGxE"
      },
      "source": [
        "# Find indicies that achieve the same number of trainable parameters\n",
        "idx_TT = np.argmax(params[0, Ms==M_DIM] >= val)\n",
        "idx_CP = np.argmax(params[1, Ms==M_DIM] >= val)\n",
        "idx_GMM = np.argmax(params[2, Ms==M_DIM] >= val)\n",
        "\n",
        "# Number of components \n",
        "K_TT = Ks[idx_TT]\n",
        "K_CP = Ks[idx_CP]\n",
        "K_GMM = Ks[idx_GMM]\n",
        "\n",
        "print('Selected number of components (K-values)')\n",
        "print(f'TensorTrain : {K_TT}')\n",
        "print(f'CP          : {K_CP}')\n",
        "print(f'GMM(sklean) : {K_GMM}')"
      ],
      "execution_count": null,
      "outputs": []
    },
    {
      "cell_type": "code",
      "metadata": {
        "id": "rIkSCKOPxFNX"
      },
      "source": [
        "# can also define a method for this, which is a lot faster \n",
        "# (especially needed for larger Ks)\n",
        "# first do some faster computations for getting K's\n",
        "def get_fair_Ks(K_tt, M, even=False):\n",
        "    \"\"\" Computes fair parameters.\n",
        "    Computes parameters for the GMM and CP models, \n",
        "    such that the three models can be compared fairly.\n",
        "\n",
        "    Input\n",
        "      K_tt  (int)   : The value of K for the Tensor Train model.\n",
        "      M     (int)   : The number of dimensions of the data, \n",
        "                      which the models are trained on\n",
        "      even  (bool)  : Whether the Ks are required to be even.\n",
        "\n",
        "    Return\n",
        "      K_tt  (int) : Same as input.\n",
        "      K_gmm (int) : The value of K for the GMM model.\n",
        "      K_cp  (int) : The value of K for the CP model.\n",
        "    \"\"\"\n",
        "\n",
        "    if even:\n",
        "      addi = 2\n",
        "    else:\n",
        "      addi = 1\n",
        "\n",
        "    # number of free parameters for TT\n",
        "    n_tt = m.TensorTrainGaussian(K_tt, M).n_parameters()\n",
        "\n",
        "    # number of free parameters for GMM\n",
        "    K_gmm = K_tt\n",
        "    n_gmm = K_gmm * (1 + M + M*M)\n",
        "    while n_gmm < n_tt:\n",
        "        K_gmm += addi\n",
        "        n_gmm = K_gmm * (1 + M + M*M)\n",
        "\n",
        "    # number of free parameters for CP\n",
        "    K_cp = K_gmm\n",
        "    n_cp = m.CPGaussian(K_cp, M).n_parameters()\n",
        "    while n_cp < n_tt:\n",
        "        K_cp += addi\n",
        "        n_cp = m.CPGaussian(K_cp, M).n_parameters()\n",
        "\n",
        "    return K_tt, K_gmm, K_cp\n",
        "  \n",
        "  print(get_fair_Ks(K_baseline), M_DIM)"
      ],
      "execution_count": null,
      "outputs": []
    },
    {
      "cell_type": "code",
      "metadata": {
        "id": "lr8tbLICxhj5"
      },
      "source": [
        ""
      ],
      "execution_count": null,
      "outputs": []
    }
  ]
}